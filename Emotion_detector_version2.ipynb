{
  "nbformat": 4,
  "nbformat_minor": 0,
  "metadata": {
    "kernelspec": {
      "display_name": "Python 3",
      "language": "python",
      "name": "python3"
    },
    "language_info": {
      "codemirror_mode": {
        "name": "ipython",
        "version": 3
      },
      "file_extension": ".py",
      "mimetype": "text/x-python",
      "name": "python",
      "nbconvert_exporter": "python",
      "pygments_lexer": "ipython3",
      "version": "3.7.7"
    },
    "colab": {
      "name": "First Emotion detector version2.ipynb",
      "provenance": [],
      "collapsed_sections": [],
      "include_colab_link": true
    },
    "accelerator": "GPU"
  },
  "cells": [
    {
      "cell_type": "markdown",
      "metadata": {
        "id": "view-in-github",
        "colab_type": "text"
      },
      "source": [
        "<a href=\"https://colab.research.google.com/github/shreyaspj20/movie-recommender-systems/blob/master/Emotion_detector_version2.ipynb\" target=\"_parent\"><img src=\"https://colab.research.google.com/assets/colab-badge.svg\" alt=\"Open In Colab\"/></a>"
      ]
    },
    {
      "cell_type": "code",
      "metadata": {
        "id": "jbo4wYjKllib",
        "outputId": "7f671461-dcbc-4cd7-d9a3-6cff6536f166",
        "colab": {
          "base_uri": "https://localhost:8080/",
          "height": 34
        }
      },
      "source": [
        "from google.colab import drive\n",
        "drive.mount('/content/drive')"
      ],
      "execution_count": 1,
      "outputs": [
        {
          "output_type": "stream",
          "text": [
            "Mounted at /content/drive\n"
          ],
          "name": "stdout"
        }
      ]
    },
    {
      "cell_type": "code",
      "metadata": {
        "id": "7b5pVbVQe-Wh"
      },
      "source": [
        "import numpy as np \n",
        "import pandas as pd"
      ],
      "execution_count": 2,
      "outputs": []
    },
    {
      "cell_type": "code",
      "metadata": {
        "id": "OFeAiXp3e-XH"
      },
      "source": [
        "\n",
        "from matplotlib import pyplot\n",
        "\n",
        "from sklearn.model_selection import train_test_split\n",
        "from sklearn.preprocessing import LabelEncoder\n",
        "from sklearn.metrics import classification_report\n",
        "from keras.utils import np_utils\n",
        "import tensorflow as tf\n",
        "from tensorflow.keras import optimizers\n",
        "from tensorflow.keras.datasets import mnist\n",
        "from tensorflow.keras.models import Sequential\n",
        "from tensorflow.keras.layers import Flatten, Dense, Conv2D, MaxPooling2D\n",
        "from tensorflow.keras.layers import Dropout, BatchNormalization, LeakyReLU, Activation\n",
        "from tensorflow.keras.callbacks import Callback, EarlyStopping, ReduceLROnPlateau\n",
        "from tensorflow.keras.preprocessing.image import ImageDataGenerator"
      ],
      "execution_count": 3,
      "outputs": []
    },
    {
      "cell_type": "code",
      "metadata": {
        "id": "qqt5PG3qe-Xs",
        "outputId": "3f7ef912-5b6f-4d11-a641-842472237819",
        "colab": {
          "base_uri": "https://localhost:8080/",
          "height": 212
        }
      },
      "source": [
        "\n",
        "df = pd.read_csv(\"/content/drive/My Drive/fer2013.csv\")\n",
        "print(df.shape)\n",
        "df.head()"
      ],
      "execution_count": 4,
      "outputs": [
        {
          "output_type": "stream",
          "text": [
            "(35887, 3)\n"
          ],
          "name": "stdout"
        },
        {
          "output_type": "execute_result",
          "data": {
            "text/html": [
              "<div>\n",
              "<style scoped>\n",
              "    .dataframe tbody tr th:only-of-type {\n",
              "        vertical-align: middle;\n",
              "    }\n",
              "\n",
              "    .dataframe tbody tr th {\n",
              "        vertical-align: top;\n",
              "    }\n",
              "\n",
              "    .dataframe thead th {\n",
              "        text-align: right;\n",
              "    }\n",
              "</style>\n",
              "<table border=\"1\" class=\"dataframe\">\n",
              "  <thead>\n",
              "    <tr style=\"text-align: right;\">\n",
              "      <th></th>\n",
              "      <th>emotion</th>\n",
              "      <th>pixels</th>\n",
              "      <th>Usage</th>\n",
              "    </tr>\n",
              "  </thead>\n",
              "  <tbody>\n",
              "    <tr>\n",
              "      <th>0</th>\n",
              "      <td>0</td>\n",
              "      <td>70 80 82 72 58 58 60 63 54 58 60 48 89 115 121...</td>\n",
              "      <td>Training</td>\n",
              "    </tr>\n",
              "    <tr>\n",
              "      <th>1</th>\n",
              "      <td>0</td>\n",
              "      <td>151 150 147 155 148 133 111 140 170 174 182 15...</td>\n",
              "      <td>Training</td>\n",
              "    </tr>\n",
              "    <tr>\n",
              "      <th>2</th>\n",
              "      <td>2</td>\n",
              "      <td>231 212 156 164 174 138 161 173 182 200 106 38...</td>\n",
              "      <td>Training</td>\n",
              "    </tr>\n",
              "    <tr>\n",
              "      <th>3</th>\n",
              "      <td>4</td>\n",
              "      <td>24 32 36 30 32 23 19 20 30 41 21 22 32 34 21 1...</td>\n",
              "      <td>Training</td>\n",
              "    </tr>\n",
              "    <tr>\n",
              "      <th>4</th>\n",
              "      <td>6</td>\n",
              "      <td>4 0 0 0 0 0 0 0 0 0 0 0 3 15 23 28 48 50 58 84...</td>\n",
              "      <td>Training</td>\n",
              "    </tr>\n",
              "  </tbody>\n",
              "</table>\n",
              "</div>"
            ],
            "text/plain": [
              "   emotion                                             pixels     Usage\n",
              "0        0  70 80 82 72 58 58 60 63 54 58 60 48 89 115 121...  Training\n",
              "1        0  151 150 147 155 148 133 111 140 170 174 182 15...  Training\n",
              "2        2  231 212 156 164 174 138 161 173 182 200 106 38...  Training\n",
              "3        4  24 32 36 30 32 23 19 20 30 41 21 22 32 34 21 1...  Training\n",
              "4        6  4 0 0 0 0 0 0 0 0 0 0 0 3 15 23 28 48 50 58 84...  Training"
            ]
          },
          "metadata": {
            "tags": []
          },
          "execution_count": 4
        }
      ]
    },
    {
      "cell_type": "code",
      "metadata": {
        "id": "CGkqGIk0e-X-"
      },
      "source": [
        "emotion_label_to_text = {0:'anger', 1:'disgust', 2:'fear', 3:'happiness', 4: 'sadness', 5: 'surprise', 6: 'neutral'}"
      ],
      "execution_count": 5,
      "outputs": []
    },
    {
      "cell_type": "code",
      "metadata": {
        "id": "EquAPUdke-Yq"
      },
      "source": [
        "INTERESTED_LABELS = [3, 4]\n",
        "df = df[df.emotion.isin(INTERESTED_LABELS)]"
      ],
      "execution_count": 6,
      "outputs": []
    },
    {
      "cell_type": "code",
      "metadata": {
        "id": "WPbMpEyoe-ZB"
      },
      "source": [
        "img_array = df.pixels.apply(lambda x: np.array(x.split(' ')).reshape(48, 48, 1).astype('float32'))\n",
        "img_array = np.stack(img_array, axis=0)"
      ],
      "execution_count": 7,
      "outputs": []
    },
    {
      "cell_type": "code",
      "metadata": {
        "id": "LVZ_fcJ8lcrN"
      },
      "source": [
        ""
      ],
      "execution_count": 7,
      "outputs": []
    },
    {
      "cell_type": "code",
      "metadata": {
        "id": "oIvYcM8ue-ZZ",
        "outputId": "a29bdf97-b018-4aa0-94a4-ae428dde6e81",
        "colab": {
          "base_uri": "https://localhost:8080/",
          "height": 34
        }
      },
      "source": [
        "le = LabelEncoder()\n",
        "img_labels = le.fit_transform(df['emotion'])\n",
        "img_labels = np_utils.to_categorical(img_labels)\n",
        "img_labels.shape"
      ],
      "execution_count": 8,
      "outputs": [
        {
          "output_type": "execute_result",
          "data": {
            "text/plain": [
              "(15066, 2)"
            ]
          },
          "metadata": {
            "tags": []
          },
          "execution_count": 8
        }
      ]
    },
    {
      "cell_type": "code",
      "metadata": {
        "id": "TqnAa2v_e-Z5",
        "outputId": "9daa8c84-ced6-4a4b-db41-07de6ed8b4de",
        "colab": {
          "base_uri": "https://localhost:8080/",
          "height": 34
        }
      },
      "source": [
        "le_name_mapping = dict(zip(le.classes_, le.transform(le.classes_)))\n",
        "print(le_name_mapping)"
      ],
      "execution_count": 9,
      "outputs": [
        {
          "output_type": "stream",
          "text": [
            "{3: 0, 4: 1}\n"
          ],
          "name": "stdout"
        }
      ]
    },
    {
      "cell_type": "code",
      "metadata": {
        "id": "6rZH3dgde-aV",
        "outputId": "8e233bfa-b06f-4c1d-8c75-882d3a329d2c",
        "colab": {
          "base_uri": "https://localhost:8080/",
          "height": 34
        }
      },
      "source": [
        "X_train, X_test, y_train, y_test = train_test_split(img_array, img_labels,\n",
        "                                                    shuffle=True, stratify=img_labels,\n",
        "                                                    test_size=0.2, random_state=42)\n",
        "X_train.shape, X_test.shape, y_train.shape, y_test.shape"
      ],
      "execution_count": 10,
      "outputs": [
        {
          "output_type": "execute_result",
          "data": {
            "text/plain": [
              "((12052, 48, 48, 1), (3014, 48, 48, 1), (12052, 2), (3014, 2))"
            ]
          },
          "metadata": {
            "tags": []
          },
          "execution_count": 10
        }
      ]
    },
    {
      "cell_type": "code",
      "metadata": {
        "id": "dSwptfn2e-ad"
      },
      "source": [
        "img_width = X_train.shape[1]\n",
        "img_height = X_train.shape[2]\n",
        "img_depth = X_train.shape[3]\n",
        "num_classes = y_train.shape[1]"
      ],
      "execution_count": 11,
      "outputs": []
    },
    {
      "cell_type": "code",
      "metadata": {
        "id": "msZ6Cw2ae-bF"
      },
      "source": [
        "X_train = X_train / 255.\n",
        "X_test = X_test / 255."
      ],
      "execution_count": 12,
      "outputs": []
    },
    {
      "cell_type": "code",
      "metadata": {
        "id": "vpoPpCL-e-bR"
      },
      "source": [
        "def build_net(optim):\n",
        "            net = Sequential(name='DCNN')\n",
        "\n",
        "            net.add(Conv2D(filters=256,kernel_size=(5,5),input_shape=(img_width, img_height, img_depth),activation='elu',\n",
        "                           padding='same',kernel_initializer='he_normal', name='conv2d_1'))\n",
        "            net.add(BatchNormalization(name='batchnorm_1'))\n",
        "            net.add(Conv2D(filters=128,kernel_size=(5,5),activation='elu',padding='same',kernel_initializer='he_normal',\n",
        "                        name='conv2d_2'))\n",
        "            net.add(BatchNormalization(name='batchnorm_2'))\n",
        "            net.add(MaxPooling2D(pool_size=(2,2), name='maxpool2d_1'))\n",
        "            net.add(Dropout(0.4, name='dropout_1'))\n",
        "            net.add(Conv2D(filters=128,kernel_size=(3,3),activation='elu',padding='same',kernel_initializer='he_normal',\n",
        "                        name='conv2d_3'))\n",
        "            net.add(BatchNormalization(name='batchnorm_3'))\n",
        "            net.add(Conv2D(filters=128,kernel_size=(3,3),activation='elu',padding='same',kernel_initializer='he_normal',\n",
        "                        name='conv2d_4'))\n",
        "            net.add(BatchNormalization(name='batchnorm_4'))\n",
        "            net.add(MaxPooling2D(pool_size=(2,2), name='maxpool2d_2'))\n",
        "            net.add(Dropout(0.4, name='dropout_2'))\n",
        "            net.add(Conv2D(filters=256,kernel_size=(3,3),activation='elu',padding='same',kernel_initializer='he_normal',\n",
        "                        name='conv2d_5'))\n",
        "            net.add(BatchNormalization(name='batchnorm_5'))\n",
        "            net.add(Conv2D(filters=256,kernel_size=(3,3),activation='elu',padding='same',kernel_initializer='he_normal',\n",
        "                        name='conv2d_6'))\n",
        "            net.add(BatchNormalization(name='batchnorm_6'))\n",
        "            net.add(MaxPooling2D(pool_size=(2,2), name='maxpool2d_3'))\n",
        "            net.add(Dropout(0.5, name='dropout_3'))\n",
        "            net.add(Flatten(name='flatten'))\n",
        "            net.add(Dense(128,activation='elu',kernel_initializer='he_normal',name='dense_1'))\n",
        "            net.add(BatchNormalization(name='batchnorm_7'))\n",
        "            net.add(Dropout(0.6, name='dropout_4'))\n",
        "            net.add(Dense(num_classes,activation='softmax',name='out_layer'))\n",
        "\n",
        "            net.compile(loss='binary_crossentropy',optimizer='adam',metrics=['accuracy'])\n",
        "\n",
        "            net.summary()\n",
        "            \n",
        "            return net\n",
        "\n"
      ],
      "execution_count": 13,
      "outputs": []
    },
    {
      "cell_type": "code",
      "metadata": {
        "id": "ZxWGDBnse-bk"
      },
      "source": [
        "\n",
        "early_stopping = EarlyStopping(monitor='val_accuracy',min_delta=0.00005,patience=10,verbose=1,\n",
        "    restore_best_weights=True)\n",
        "\n",
        "lr_scheduler = ReduceLROnPlateau(monitor='val_accuracy',factor=0.5,patience=7,min_lr=1e-7,verbose=1)\n",
        "\n",
        "callbacks = [early_stopping,lr_scheduler]"
      ],
      "execution_count": 14,
      "outputs": []
    },
    {
      "cell_type": "code",
      "metadata": {
        "id": "-6lpLGhSe-cE"
      },
      "source": [
        "train_datagen = ImageDataGenerator(rotation_range=15,width_shift_range=0.15,height_shift_range=0.15,\n",
        "    shear_range=0.15,zoom_range=0.15,horizontal_flip=True)\n",
        "train_datagen.fit(X_train)"
      ],
      "execution_count": 15,
      "outputs": []
    },
    {
      "cell_type": "code",
      "metadata": {
        "id": "ImQK8ygNe-cL",
        "outputId": "011c2b97-8234-4b86-9eea-2f75f8c5e636",
        "colab": {
          "base_uri": "https://localhost:8080/",
          "height": 1000
        }
      },
      "source": [
        "batch_size = 32 \n",
        "epochs = 75\n",
        "optims = [optimizers.Nadam(learning_rate=0.001, beta_1=0.9, beta_2=0.999, epsilon=1e-07, name='Nadam')\n",
        "          ,optimizers.Adam(0.001)]\n",
        "\n",
        "model = build_net(optims[1]) \n",
        "history = model.fit(train_datagen.flow(X_train, y_train, batch_size=batch_size),validation_data=(X_test, y_test),\n",
        "    steps_per_epoch=len(X_train) / batch_size,epochs=epochs,callbacks=callbacks)"
      ],
      "execution_count": 16,
      "outputs": [
        {
          "output_type": "stream",
          "text": [
            "Model: \"DCNN\"\n",
            "_________________________________________________________________\n",
            "Layer (type)                 Output Shape              Param #   \n",
            "=================================================================\n",
            "conv2d_1 (Conv2D)            (None, 48, 48, 256)       6656      \n",
            "_________________________________________________________________\n",
            "batchnorm_1 (BatchNormalizat (None, 48, 48, 256)       1024      \n",
            "_________________________________________________________________\n",
            "conv2d_2 (Conv2D)            (None, 48, 48, 128)       819328    \n",
            "_________________________________________________________________\n",
            "batchnorm_2 (BatchNormalizat (None, 48, 48, 128)       512       \n",
            "_________________________________________________________________\n",
            "maxpool2d_1 (MaxPooling2D)   (None, 24, 24, 128)       0         \n",
            "_________________________________________________________________\n",
            "dropout_1 (Dropout)          (None, 24, 24, 128)       0         \n",
            "_________________________________________________________________\n",
            "conv2d_3 (Conv2D)            (None, 24, 24, 128)       147584    \n",
            "_________________________________________________________________\n",
            "batchnorm_3 (BatchNormalizat (None, 24, 24, 128)       512       \n",
            "_________________________________________________________________\n",
            "conv2d_4 (Conv2D)            (None, 24, 24, 128)       147584    \n",
            "_________________________________________________________________\n",
            "batchnorm_4 (BatchNormalizat (None, 24, 24, 128)       512       \n",
            "_________________________________________________________________\n",
            "maxpool2d_2 (MaxPooling2D)   (None, 12, 12, 128)       0         \n",
            "_________________________________________________________________\n",
            "dropout_2 (Dropout)          (None, 12, 12, 128)       0         \n",
            "_________________________________________________________________\n",
            "conv2d_5 (Conv2D)            (None, 12, 12, 256)       295168    \n",
            "_________________________________________________________________\n",
            "batchnorm_5 (BatchNormalizat (None, 12, 12, 256)       1024      \n",
            "_________________________________________________________________\n",
            "conv2d_6 (Conv2D)            (None, 12, 12, 256)       590080    \n",
            "_________________________________________________________________\n",
            "batchnorm_6 (BatchNormalizat (None, 12, 12, 256)       1024      \n",
            "_________________________________________________________________\n",
            "maxpool2d_3 (MaxPooling2D)   (None, 6, 6, 256)         0         \n",
            "_________________________________________________________________\n",
            "dropout_3 (Dropout)          (None, 6, 6, 256)         0         \n",
            "_________________________________________________________________\n",
            "flatten (Flatten)            (None, 9216)              0         \n",
            "_________________________________________________________________\n",
            "dense_1 (Dense)              (None, 128)               1179776   \n",
            "_________________________________________________________________\n",
            "batchnorm_7 (BatchNormalizat (None, 128)               512       \n",
            "_________________________________________________________________\n",
            "dropout_4 (Dropout)          (None, 128)               0         \n",
            "_________________________________________________________________\n",
            "out_layer (Dense)            (None, 2)                 258       \n",
            "=================================================================\n",
            "Total params: 3,191,554\n",
            "Trainable params: 3,188,994\n",
            "Non-trainable params: 2,560\n",
            "_________________________________________________________________\n",
            "Epoch 1/75\n",
            "377/376 [==============================] - 45s 119ms/step - loss: 0.8769 - accuracy: 0.5719 - val_loss: 0.6360 - val_accuracy: 0.6340\n",
            "Epoch 2/75\n",
            "377/376 [==============================] - 44s 117ms/step - loss: 0.6584 - accuracy: 0.6200 - val_loss: 0.6159 - val_accuracy: 0.6510\n",
            "Epoch 3/75\n",
            "377/376 [==============================] - 44s 117ms/step - loss: 0.6157 - accuracy: 0.6650 - val_loss: 0.5313 - val_accuracy: 0.7372\n",
            "Epoch 4/75\n",
            "377/376 [==============================] - 44s 117ms/step - loss: 0.5567 - accuracy: 0.7113 - val_loss: 0.4936 - val_accuracy: 0.7548\n",
            "Epoch 5/75\n",
            "377/376 [==============================] - 44s 117ms/step - loss: 0.4917 - accuracy: 0.7585 - val_loss: 0.3926 - val_accuracy: 0.8205\n",
            "Epoch 6/75\n",
            "377/376 [==============================] - 44s 117ms/step - loss: 0.4244 - accuracy: 0.7981 - val_loss: 0.3783 - val_accuracy: 0.8437\n",
            "Epoch 7/75\n",
            "377/376 [==============================] - 44s 117ms/step - loss: 0.3798 - accuracy: 0.8238 - val_loss: 0.3737 - val_accuracy: 0.8484\n",
            "Epoch 8/75\n",
            "377/376 [==============================] - 44s 117ms/step - loss: 0.3486 - accuracy: 0.8467 - val_loss: 0.2730 - val_accuracy: 0.8879\n",
            "Epoch 9/75\n",
            "377/376 [==============================] - 44s 117ms/step - loss: 0.3312 - accuracy: 0.8564 - val_loss: 0.2925 - val_accuracy: 0.8729\n",
            "Epoch 10/75\n",
            "377/376 [==============================] - 44s 117ms/step - loss: 0.3169 - accuracy: 0.8648 - val_loss: 0.2788 - val_accuracy: 0.8849\n",
            "Epoch 11/75\n",
            "377/376 [==============================] - 44s 117ms/step - loss: 0.3011 - accuracy: 0.8713 - val_loss: 0.2578 - val_accuracy: 0.8912\n",
            "Epoch 12/75\n",
            "377/376 [==============================] - 44s 117ms/step - loss: 0.2856 - accuracy: 0.8783 - val_loss: 0.3213 - val_accuracy: 0.8610\n",
            "Epoch 13/75\n",
            "377/376 [==============================] - 44s 117ms/step - loss: 0.2842 - accuracy: 0.8815 - val_loss: 0.2486 - val_accuracy: 0.9021\n",
            "Epoch 14/75\n",
            "377/376 [==============================] - 44s 117ms/step - loss: 0.2719 - accuracy: 0.8851 - val_loss: 0.2139 - val_accuracy: 0.9157\n",
            "Epoch 15/75\n",
            "377/376 [==============================] - 44s 117ms/step - loss: 0.2615 - accuracy: 0.8912 - val_loss: 0.2314 - val_accuracy: 0.9068\n",
            "Epoch 16/75\n",
            "377/376 [==============================] - 44s 116ms/step - loss: 0.2619 - accuracy: 0.8934 - val_loss: 0.2313 - val_accuracy: 0.9051\n",
            "Epoch 17/75\n",
            "377/376 [==============================] - 44s 117ms/step - loss: 0.2523 - accuracy: 0.8935 - val_loss: 0.2102 - val_accuracy: 0.9194\n",
            "Epoch 18/75\n",
            "377/376 [==============================] - 44s 117ms/step - loss: 0.2507 - accuracy: 0.8969 - val_loss: 0.2624 - val_accuracy: 0.9031\n",
            "Epoch 19/75\n",
            "377/376 [==============================] - 44s 117ms/step - loss: 0.2479 - accuracy: 0.9025 - val_loss: 0.2064 - val_accuracy: 0.9227\n",
            "Epoch 20/75\n",
            "377/376 [==============================] - 44s 117ms/step - loss: 0.2388 - accuracy: 0.9023 - val_loss: 0.2533 - val_accuracy: 0.8988\n",
            "Epoch 21/75\n",
            "377/376 [==============================] - 44s 117ms/step - loss: 0.2363 - accuracy: 0.9038 - val_loss: 0.1953 - val_accuracy: 0.9270\n",
            "Epoch 22/75\n",
            "377/376 [==============================] - 44s 117ms/step - loss: 0.2229 - accuracy: 0.9097 - val_loss: 0.2075 - val_accuracy: 0.9190\n",
            "Epoch 23/75\n",
            "377/376 [==============================] - 44s 117ms/step - loss: 0.2253 - accuracy: 0.9103 - val_loss: 0.1764 - val_accuracy: 0.9307\n",
            "Epoch 24/75\n",
            "377/376 [==============================] - 44s 117ms/step - loss: 0.2240 - accuracy: 0.9111 - val_loss: 0.1852 - val_accuracy: 0.9283\n",
            "Epoch 25/75\n",
            "377/376 [==============================] - 44s 117ms/step - loss: 0.2157 - accuracy: 0.9094 - val_loss: 0.1996 - val_accuracy: 0.9250\n",
            "Epoch 26/75\n",
            "377/376 [==============================] - 44s 118ms/step - loss: 0.2106 - accuracy: 0.9179 - val_loss: 0.1875 - val_accuracy: 0.9260\n",
            "Epoch 27/75\n",
            "377/376 [==============================] - 44s 118ms/step - loss: 0.2058 - accuracy: 0.9209 - val_loss: 0.1833 - val_accuracy: 0.9253\n",
            "Epoch 28/75\n",
            "377/376 [==============================] - 44s 118ms/step - loss: 0.1998 - accuracy: 0.9216 - val_loss: 0.1978 - val_accuracy: 0.9257\n",
            "Epoch 29/75\n",
            "377/376 [==============================] - 44s 118ms/step - loss: 0.2044 - accuracy: 0.9211 - val_loss: 0.2265 - val_accuracy: 0.9154\n",
            "Epoch 30/75\n",
            "377/376 [==============================] - 44s 118ms/step - loss: 0.1968 - accuracy: 0.9231 - val_loss: 0.1923 - val_accuracy: 0.9310\n",
            "Epoch 31/75\n",
            "377/376 [==============================] - 44s 118ms/step - loss: 0.1935 - accuracy: 0.9243 - val_loss: 0.1930 - val_accuracy: 0.9214\n",
            "Epoch 32/75\n",
            "377/376 [==============================] - 44s 117ms/step - loss: 0.1922 - accuracy: 0.9237 - val_loss: 0.1955 - val_accuracy: 0.9270\n",
            "Epoch 33/75\n",
            "377/376 [==============================] - 44s 117ms/step - loss: 0.1862 - accuracy: 0.9271 - val_loss: 0.1848 - val_accuracy: 0.9307\n",
            "Epoch 34/75\n",
            "377/376 [==============================] - 44s 118ms/step - loss: 0.1925 - accuracy: 0.9240 - val_loss: 0.1722 - val_accuracy: 0.9323\n",
            "Epoch 35/75\n",
            "377/376 [==============================] - 44s 117ms/step - loss: 0.1797 - accuracy: 0.9322 - val_loss: 0.1833 - val_accuracy: 0.9273\n",
            "Epoch 36/75\n",
            "377/376 [==============================] - 44s 117ms/step - loss: 0.1842 - accuracy: 0.9260 - val_loss: 0.1742 - val_accuracy: 0.9363\n",
            "Epoch 37/75\n",
            "377/376 [==============================] - 44s 117ms/step - loss: 0.1766 - accuracy: 0.9312 - val_loss: 0.1652 - val_accuracy: 0.9393\n",
            "Epoch 38/75\n",
            "377/376 [==============================] - 44s 118ms/step - loss: 0.1751 - accuracy: 0.9330 - val_loss: 0.1696 - val_accuracy: 0.9360\n",
            "Epoch 39/75\n",
            "377/376 [==============================] - 44s 118ms/step - loss: 0.1735 - accuracy: 0.9330 - val_loss: 0.1678 - val_accuracy: 0.9386\n",
            "Epoch 40/75\n",
            "377/376 [==============================] - 44s 117ms/step - loss: 0.1752 - accuracy: 0.9333 - val_loss: 0.1652 - val_accuracy: 0.9390\n",
            "Epoch 41/75\n",
            "377/376 [==============================] - 44s 117ms/step - loss: 0.1719 - accuracy: 0.9335 - val_loss: 0.1715 - val_accuracy: 0.9409\n",
            "Epoch 42/75\n",
            "377/376 [==============================] - 44s 118ms/step - loss: 0.1705 - accuracy: 0.9346 - val_loss: 0.1714 - val_accuracy: 0.9409\n",
            "Epoch 43/75\n",
            "377/376 [==============================] - 44s 118ms/step - loss: 0.1695 - accuracy: 0.9350 - val_loss: 0.2066 - val_accuracy: 0.9237\n",
            "Epoch 44/75\n",
            "377/376 [==============================] - 44s 118ms/step - loss: 0.1629 - accuracy: 0.9382 - val_loss: 0.1718 - val_accuracy: 0.9429\n",
            "Epoch 45/75\n",
            "377/376 [==============================] - 44s 118ms/step - loss: 0.1699 - accuracy: 0.9345 - val_loss: 0.1583 - val_accuracy: 0.9429\n",
            "Epoch 46/75\n",
            "377/376 [==============================] - 44s 117ms/step - loss: 0.1542 - accuracy: 0.9408 - val_loss: 0.1915 - val_accuracy: 0.9326\n",
            "Epoch 47/75\n",
            "377/376 [==============================] - 44s 117ms/step - loss: 0.1609 - accuracy: 0.9375 - val_loss: 0.1701 - val_accuracy: 0.9413\n",
            "Epoch 48/75\n",
            "377/376 [==============================] - 44s 117ms/step - loss: 0.1575 - accuracy: 0.9407 - val_loss: 0.1634 - val_accuracy: 0.9409\n",
            "Epoch 49/75\n",
            "377/376 [==============================] - 44s 118ms/step - loss: 0.1572 - accuracy: 0.9399 - val_loss: 0.1715 - val_accuracy: 0.9413\n",
            "Epoch 50/75\n",
            "377/376 [==============================] - 44s 117ms/step - loss: 0.1513 - accuracy: 0.9413 - val_loss: 0.1724 - val_accuracy: 0.9350\n",
            "Epoch 51/75\n",
            "377/376 [==============================] - ETA: 0s - loss: 0.1619 - accuracy: 0.9377\n",
            "Epoch 00051: ReduceLROnPlateau reducing learning rate to 0.0005000000237487257.\n",
            "377/376 [==============================] - 44s 117ms/step - loss: 0.1619 - accuracy: 0.9377 - val_loss: 0.1610 - val_accuracy: 0.9413\n",
            "Epoch 52/75\n",
            "377/376 [==============================] - 44s 118ms/step - loss: 0.1364 - accuracy: 0.9475 - val_loss: 0.1688 - val_accuracy: 0.9386\n",
            "Epoch 53/75\n",
            "377/376 [==============================] - 44s 118ms/step - loss: 0.1325 - accuracy: 0.9495 - val_loss: 0.1563 - val_accuracy: 0.9489\n",
            "Epoch 54/75\n",
            "377/376 [==============================] - 44s 118ms/step - loss: 0.1333 - accuracy: 0.9487 - val_loss: 0.1547 - val_accuracy: 0.9502\n",
            "Epoch 55/75\n",
            "377/376 [==============================] - 44s 117ms/step - loss: 0.1293 - accuracy: 0.9524 - val_loss: 0.1629 - val_accuracy: 0.9416\n",
            "Epoch 56/75\n",
            "377/376 [==============================] - 44s 117ms/step - loss: 0.1271 - accuracy: 0.9525 - val_loss: 0.1546 - val_accuracy: 0.9453\n",
            "Epoch 57/75\n",
            "377/376 [==============================] - 44s 118ms/step - loss: 0.1240 - accuracy: 0.9540 - val_loss: 0.1645 - val_accuracy: 0.9449\n",
            "Epoch 58/75\n",
            "377/376 [==============================] - 44s 117ms/step - loss: 0.1274 - accuracy: 0.9512 - val_loss: 0.1666 - val_accuracy: 0.9446\n",
            "Epoch 59/75\n",
            "377/376 [==============================] - 44s 118ms/step - loss: 0.1193 - accuracy: 0.9551 - val_loss: 0.1626 - val_accuracy: 0.9466\n",
            "Epoch 60/75\n",
            "377/376 [==============================] - 44s 118ms/step - loss: 0.1195 - accuracy: 0.9536 - val_loss: 0.1634 - val_accuracy: 0.9472\n",
            "Epoch 61/75\n",
            "377/376 [==============================] - ETA: 0s - loss: 0.1130 - accuracy: 0.9583\n",
            "Epoch 00061: ReduceLROnPlateau reducing learning rate to 0.0002500000118743628.\n",
            "377/376 [==============================] - 44s 118ms/step - loss: 0.1130 - accuracy: 0.9583 - val_loss: 0.1693 - val_accuracy: 0.9466\n",
            "Epoch 62/75\n",
            "377/376 [==============================] - 44s 118ms/step - loss: 0.1126 - accuracy: 0.9592 - val_loss: 0.1688 - val_accuracy: 0.9466\n",
            "Epoch 63/75\n",
            "377/376 [==============================] - 44s 118ms/step - loss: 0.1120 - accuracy: 0.9592 - val_loss: 0.1614 - val_accuracy: 0.9499\n",
            "Epoch 64/75\n",
            "377/376 [==============================] - ETA: 0s - loss: 0.1084 - accuracy: 0.9614Restoring model weights from the end of the best epoch.\n",
            "377/376 [==============================] - 44s 118ms/step - loss: 0.1084 - accuracy: 0.9614 - val_loss: 0.1644 - val_accuracy: 0.9472\n",
            "Epoch 00064: early stopping\n"
          ],
          "name": "stdout"
        }
      ]
    },
    {
      "cell_type": "code",
      "metadata": {
        "id": "CNmntmKve-cS"
      },
      "source": [
        "model.save(\"final_model.h5\")"
      ],
      "execution_count": 17,
      "outputs": []
    },
    {
      "cell_type": "code",
      "metadata": {
        "id": "v91YvYi1qyrV"
      },
      "source": [
        ""
      ],
      "execution_count": 17,
      "outputs": []
    }
  ]
}